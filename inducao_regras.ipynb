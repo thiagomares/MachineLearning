{
 "cells": [
  {
   "cell_type": "code",
   "execution_count": 3,
   "metadata": {},
   "outputs": [],
   "source": [
    "# Indução de regras\n",
    "\"\"\"\n",
    "    Entendendo como que o aprendizado de regras funciona:\n",
    "    \n",
    "    Quando pegamos uma arvore de regras, o algoritmo vai fazer caminhos até obter aquele valor, ja no caso do do naïve bayes, ele vai fazer uma verificação estatistica das condições\n",
    "    e vai selecionar a mais provavel, de acordo com os levantamentos feitos da base de dados\n",
    "    \n",
    "    Ja na apprendizagem por regras, o algoritmo vai criar regras fixas para obter as melhores condições.\n",
    "    \n",
    "\"\"\"\n",
    "import pickle\n",
    "import pandas as pd\n",
    "\n",
    "with open('./zegodata.pkl', \"rb\") as data:\n",
    "    previsores, classe = pickle.load(data)\n",
    "\n",
    "with open('./zegotestdata.pkl', 'rb') as data:\n",
    "    previsores_teste, classe_teste = pickle.load(data)\n",
    "\n",
    "\n",
    "# Testando valores e verificando o tamanho das bases coletadas e mantidas no pickle\n",
    "\n",
    "# print(previsores, classe)\n",
    "# print(previsores_teste, classe_teste)\n",
    "# print(len(previsores), len(previsores_teste))"
   ]
  },
  {
   "cell_type": "markdown",
   "metadata": {},
   "source": [
    "# Algoritmo OpenR(ules)\n",
    "<h3>Neste tipo a gente precisa testar antes com uma quantidade menor de dados para testar as regras que queremos aplicar</h3>\n",
    "\n",
    "\n",
    "Explicando e exemplificando a história\n",
    "\n",
    "nos fazemos uma tabela, onde a primeira coluna é o atributo, a segunda coluna é a classe que queremos verificar, a terceira coluna é a regra, a quarta coluna é o erro e a quinta é o erro somado, então:\n",
    "\n",
    "\n",
    "<!-- Lembrar de fazer uma tabela de verdade aqui, nao deixar simplesmente alinhado pq nao vai adiantar muito -->\n",
    "|Atributo     |quantidade         |regras                             |erro      |total erro|\n",
    "|--- |--- |--- |--- |--- |\n",
    "|A            |ruim = 10          |se ruim, entao alto                 |1/5         |       |\n",
    "|b            |desconhecida = 3   |se desconhecida entao moderado      |3/5         |6/15   |\n",
    "|c            |boa = 1            |se boa entao baixo                  |1/5         |        |"
   ]
  },
  {
   "cell_type": "markdown",
   "metadata": {},
   "source": [
    "# Algoritmo PRISM\n",
    "\n",
    "No caso do prism, nos pegamos apenas uma condição, e dela nos vamos pegar a maior abrangencia e determinar qual vai ser a melhor condiaçao para o nosso algoritmo\n",
    "\n",
    "\n"
   ]
  },
  {
   "cell_type": "code",
   "execution_count": 4,
   "metadata": {},
   "outputs": [
    {
     "data": {
      "text/plain": [
       "[[CC, <50%, <50%, <200 | One-Time],\n",
       " [CC, <50%, <50%, <200 | One-Time],\n",
       " [ACH, <50%, <50%, <200 | Recurring],\n",
       " [ACH, <50%, <50%, <200 | Recurring],\n",
       " [CC, <50%, <50%, <200 | One-Time],\n",
       " ...\n",
       "]"
      ]
     },
     "execution_count": 4,
     "metadata": {},
     "output_type": "execute_result"
    }
   ],
   "source": [
    "# Como o sklearn nao tem este tipo de aprendizagem, nos iremos utilizar a lib orange3\n",
    "import Orange\n",
    "\n",
    "base_AR = Orange.data.Table(\"AR_Data.csv\")\n",
    "base_AR"
   ]
  },
  {
   "cell_type": "code",
   "execution_count": 5,
   "metadata": {},
   "outputs": [
    {
     "data": {
      "text/plain": [
       "[PaymentType, Community Range, Door Range, Payment range | recurrence]"
      ]
     },
     "execution_count": 5,
     "metadata": {},
     "output_type": "execute_result"
    }
   ],
   "source": [
    "base_AR[0].domain"
   ]
  },
  {
   "cell_type": "code",
   "execution_count": 6,
   "metadata": {},
   "outputs": [
    {
     "name": "stdout",
     "output_type": "stream",
     "text": [
      "IF Community Range==<=20% THEN recurrence=One-Time \n",
      "IF PaymentType!=ACH AND Community Range==<70% THEN recurrence=One-Time \n",
      "IF PaymentType!=ACH AND Community Range!=>70% THEN recurrence=One-Time \n",
      "IF PaymentType!=ACH AND Door Range==<70% THEN recurrence=One-Time \n",
      "IF PaymentType!=ACH AND Door Range==>70% THEN recurrence=One-Time \n",
      "IF PaymentType!=ACH AND Payment range!=<200 THEN recurrence=One-Time \n",
      "IF Door Range==>70% AND Community Range!=>70% THEN recurrence=One-Time \n",
      "IF Door Range==<70% AND Community Range==<70% THEN recurrence=One-Time \n",
      "IF Door Range!=<=20% AND Community Range==<70% THEN recurrence=One-Time \n",
      "IF PaymentType!=ACH AND Door Range!=<50% THEN recurrence=One-Time \n",
      "IF PaymentType!=ACH THEN recurrence=One-Time \n",
      "IF Door Range==>70% AND Payment range==<1000 THEN recurrence=Recurring \n",
      "IF Community Range==<50% AND Payment range==>1000 AND Door Range==<70% THEN recurrence=One-Time \n",
      "IF Door Range==>70% AND Payment range!=>1000 THEN recurrence=Recurring \n",
      "IF Community Range==<50% AND Payment range!=<1000 AND Door Range==<70% THEN recurrence=One-Time \n",
      "IF Door Range==>70% THEN recurrence=Recurring \n",
      "IF Community Range==<50% AND Payment range==>1000 AND Door Range!=<50% THEN recurrence=Recurring \n",
      "IF Community Range==<50% AND Payment range==<200 AND Door Range!=<=20% THEN recurrence=Recurring \n",
      "IF Community Range==<50% AND Door Range==<=20% AND Payment range!=<200 THEN recurrence=Recurring \n",
      "IF Payment range==<1000 AND Door Range==<70% AND Community Range!=<50% THEN recurrence=Recurring \n",
      "IF Payment range==<1000 AND Door Range==<50% AND Community Range!=<50% THEN recurrence=Recurring \n",
      "IF Community Range==<70% AND Payment range==<1000 THEN recurrence=Recurring \n",
      "IF Door Range==<50% AND Payment range==<200 THEN recurrence=Recurring \n",
      "IF Community Range==<70% AND Payment range!=<200 THEN recurrence=Recurring \n",
      "IF Payment range==<1000 AND Door Range==<50% THEN recurrence=Recurring \n",
      "IF Payment range==>1000 AND Door Range==<=20% THEN recurrence=Recurring \n",
      "IF Payment range==>1000 AND Door Range!=<50% THEN recurrence=One-Time \n",
      "IF Payment range==<1000 AND Community Range!=>70% THEN recurrence=One-Time \n",
      "IF Payment range==<200 AND Community Range==>70% AND Door Range!=<70% THEN recurrence=One-Time \n",
      "IF Community Range==<50% AND Door Range!=<50% THEN recurrence=Recurring \n",
      "IF Payment range==<1000 THEN recurrence=Recurring \n",
      "IF Community Range==<70% THEN recurrence=One-Time \n",
      "IF Door Range!=<50% THEN recurrence=Recurring \n",
      "IF Community Range!=<50% THEN recurrence=Recurring \n",
      "IF PaymentType==ACH THEN recurrence=One-Time \n",
      "IF TRUE THEN recurrence=Recurring \n"
     ]
    }
   ],
   "source": [
    "# Classificando os nossos dados\n",
    "\n",
    "cn2 = Orange.classification.rules.CN2Learner()\n",
    "regras = cn2(base_AR)\n",
    "\n",
    "# E Aqui geramos a lista de quais regras o Orange vai criar\n",
    "for r in regras.rule_list:\n",
    "    print(r)"
   ]
  },
  {
   "cell_type": "code",
   "execution_count": 7,
   "metadata": {},
   "outputs": [
    {
     "name": "stdout",
     "output_type": "stream",
     "text": [
      "300000 200000\n"
     ]
    }
   ],
   "source": [
    "# Dividindo a base e verificando os tamanhos\n",
    "\n",
    "treino_ar = Orange.evaluation.testing.sample(base_AR, n = 0.6)\n",
    "teste_ar = treino_ar[1]\n",
    "treino_ar = treino_ar[0]\n",
    "\n",
    "print(len(treino_ar), len(teste_ar))"
   ]
  },
  {
   "cell_type": "code",
   "execution_count": 8,
   "metadata": {},
   "outputs": [
    {
     "name": "stdout",
     "output_type": "stream",
     "text": [
      "IF Community Range==<=20% THEN recurrence=One-Time \n",
      "IF PaymentType!=ACH AND Community Range==<70% THEN recurrence=One-Time \n",
      "IF PaymentType!=ACH AND Community Range!=>70% THEN recurrence=One-Time \n",
      "IF PaymentType!=ACH AND Door Range==<70% THEN recurrence=One-Time \n",
      "IF PaymentType!=ACH AND Door Range==>70% THEN recurrence=One-Time \n",
      "IF PaymentType!=ACH AND Payment range!=<200 THEN recurrence=One-Time \n",
      "IF Door Range==>70% AND Community Range!=>70% THEN recurrence=One-Time \n",
      "IF Door Range==<70% AND Community Range==<70% THEN recurrence=One-Time \n",
      "IF Door Range!=<=20% AND Community Range==<70% THEN recurrence=One-Time \n",
      "IF PaymentType!=ACH AND Door Range!=<50% THEN recurrence=One-Time \n",
      "IF PaymentType!=ACH THEN recurrence=One-Time \n",
      "IF Door Range==>70% AND Payment range!=>1000 AND Payment range!=<1000 THEN recurrence=Recurring \n",
      "IF Community Range==<50% AND Payment range==>1000 AND Door Range==<70% THEN recurrence=One-Time \n",
      "IF Door Range==>70% AND Payment range!=>1000 THEN recurrence=Recurring \n",
      "IF Community Range==<50% AND Payment range!=<1000 AND Door Range==<70% THEN recurrence=One-Time \n",
      "IF Door Range==>70% THEN recurrence=Recurring \n",
      "IF Community Range==<50% AND Payment range==>1000 AND Door Range!=<50% THEN recurrence=Recurring \n",
      "IF Community Range==<50% AND Payment range==<200 AND Door Range!=<=20% THEN recurrence=Recurring \n",
      "IF Community Range==<50% AND Door Range==<=20% AND Payment range!=<200 THEN recurrence=Recurring \n",
      "IF Payment range==<1000 AND Door Range==<70% AND Community Range!=<50% THEN recurrence=Recurring \n",
      "IF Payment range==<1000 AND Door Range==<50% AND Community Range!=<50% THEN recurrence=Recurring \n",
      "IF Community Range==<70% AND Payment range==<1000 THEN recurrence=Recurring \n",
      "IF Door Range==<50% AND Payment range==<200 THEN recurrence=Recurring \n",
      "IF Community Range==<70% AND Payment range!=<200 THEN recurrence=Recurring \n",
      "IF Payment range==<1000 AND Door Range==<50% THEN recurrence=Recurring \n",
      "IF Payment range==>1000 AND Door Range==<=20% THEN recurrence=Recurring \n",
      "IF Payment range==<200 AND Community Range==>70% AND Door Range!=<70% THEN recurrence=One-Time \n",
      "IF Door Range!=<50% AND Payment range==>1000 THEN recurrence=One-Time \n",
      "IF Payment range==<1000 AND Community Range!=>70% THEN recurrence=One-Time \n",
      "IF Community Range==<50% AND Door Range!=<50% THEN recurrence=Recurring \n",
      "IF Payment range==<1000 THEN recurrence=Recurring \n",
      "IF Community Range==<70% THEN recurrence=One-Time \n",
      "IF Door Range!=<50% THEN recurrence=Recurring \n",
      "IF Community Range!=<50% THEN recurrence=Recurring \n",
      "IF PaymentType==ACH THEN recurrence=One-Time \n",
      "IF TRUE THEN recurrence=Recurring \n"
     ]
    }
   ],
   "source": [
    "regras = cn2(treino_ar)\n",
    "\n",
    "for regra in regras.rule_list:\n",
    "    print(regra)"
   ]
  },
  {
   "cell_type": "code",
   "execution_count": 9,
   "metadata": {},
   "outputs": [
    {
     "data": {
      "text/plain": [
       "array([0.84388])"
      ]
     },
     "execution_count": 9,
     "metadata": {},
     "output_type": "execute_result"
    }
   ],
   "source": [
    "# Aqui estamos ja dando tanto a base de teste, tanto a base de treino, e para testar os valores, nos precisamos inserir uma função lambda para inserir as regras\n",
    "\n",
    "previsoes = Orange.evaluation.TestOnTestData(treino_ar, teste_ar, [lambda testdata: regras])\n",
    "\n",
    "\n",
    "Orange.evaluation.CA(previsoes)\n",
    "\n",
    "# Neste caso, tivemos uma previsão correta de 84%"
   ]
  }
 ],
 "metadata": {
  "kernelspec": {
   "display_name": ".venv",
   "language": "python",
   "name": "python3"
  },
  "language_info": {
   "codemirror_mode": {
    "name": "ipython",
    "version": 3
   },
   "file_extension": ".py",
   "mimetype": "text/x-python",
   "name": "python",
   "nbconvert_exporter": "python",
   "pygments_lexer": "ipython3",
   "version": "3.10.6"
  },
  "orig_nbformat": 4
 },
 "nbformat": 4,
 "nbformat_minor": 2
}
