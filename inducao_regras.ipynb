{
 "cells": [
  {
   "cell_type": "code",
   "execution_count": null,
   "metadata": {},
   "outputs": [],
   "source": [
    "# Indução de regras\n",
    "\"\"\"\n",
    "    Entendendo como que o aprendizado de regras funciona:\n",
    "    \n",
    "    Quando pegamos uma arvore de regras, o algoritmo vai fazer caminhos até obter aquele valor, ja no caso do do naïve bayes, ele vai fazer uma verificação estatistica das condições\n",
    "    e vai selecionar a mais provavel, de acordo com os levantamentos feitos da base de dados\n",
    "    \n",
    "    Ja na apprendizagem por regras, o algoritmo vai criar regras fixas para obter as melhores condições.\n",
    "    \n",
    "\"\"\"\n",
    "import pickle\n",
    "import pandas as pd\n",
    "\n",
    "with open('./zegodata.pkl', \"rb\") as data:\n",
    "    previsores, classe = pickle.load(data)\n",
    "\n",
    "with open('./zegotestdata.pkl', 'rb') as data:\n",
    "    previsores_teste, classe_teste = pickle.load(data)\n",
    "\n",
    "\n",
    "# Testando valores e verificando o tamanho das bases coletadas e mantidas no pickle\n",
    "\n",
    "# print(previsores, classe)\n",
    "# print(previsores_teste, classe_teste)\n",
    "# print(len(previsores), len(previsores_teste))"
   ]
  },
  {
   "cell_type": "markdown",
   "metadata": {},
   "source": [
    "# Algoritmo OpenR(ules)\n",
    "<h3>Neste tipo a gente precisa testar antes com uma quantidade menor de dados para testar as regras que queremos aplicar</h3>\n",
    "\n",
    "\n",
    "Explicando e exemplificando a história\n",
    "\n",
    "nos fazemos uma tabela, onde a primeira coluna é o atributo, a segunda coluna é a classe que queremos verificar, a terceira coluna é a regra, a quarta coluna é o erro e a quinta é o erro somado, então:\n",
    "\n",
    "\n",
    "<!-- Lembrar de fazer uma tabela de verdade aqui, nao deixar simplesmente alinhado pq nao vai adiantar muito -->\n",
    "|Atributo     |quantidade         |regras                             |erro      |total erro|\n",
    "|--- |--- |--- |--- |--- |\n",
    "|A            |ruim = 10          |se ruim, entao alto                 |1/5         |       |\n",
    "|b            |desconhecida = 3   |se desconhecida entao moderado      |3/5         |6/15   |\n",
    "|c            |boa = 1            |se boa entao baixo                  |2/5         |        |"
   ]
  },
  {
   "cell_type": "markdown",
   "metadata": {},
   "source": [
    "# Algoritmo PRISM\n",
    "\n",
    "No caso do prism, nos pegamos apenas uma condição, e dela nos vamos pegar a maior abrangencia e determinar qual vai ser a melhor condiaçao para o nosso algoritmo\n",
    "\n",
    "\n"
   ]
  },
  {
   "cell_type": "code",
   "execution_count": null,
   "metadata": {},
   "outputs": [],
   "source": []
  }
 ],
 "metadata": {
  "kernelspec": {
   "display_name": ".venv",
   "language": "python",
   "name": "python3"
  },
  "language_info": {
   "codemirror_mode": {
    "name": "ipython",
    "version": 3
   },
   "file_extension": ".py",
   "mimetype": "text/x-python",
   "name": "python",
   "nbconvert_exporter": "python",
   "pygments_lexer": "ipython3",
   "version": "3.10.6"
  },
  "orig_nbformat": 4
 },
 "nbformat": 4,
 "nbformat_minor": 2
}
