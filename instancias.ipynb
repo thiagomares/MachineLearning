{
 "cells": [
  {
   "cell_type": "code",
   "execution_count": 3,
   "metadata": {},
   "outputs": [
    {
     "data": {
      "text/plain": [
       "'\\n    K- Nearest Neighbour\\n    \\n    Basicamente, nos vamos verificar o novo registro comparando com os seus vizinhos, logo, se o vizinho ser a, muito provavelmente este valor também será a, e isso nos vamos avaliando a partir da quantidade de vizinhos que este valor tiver,\\n    por exemplo, se este valor tiver 3 vizinhos, sendo 2 a e 1 B,  nos assumimos que esta maioria é de A. Porém, nao devemos utilizar um numero muito grande de vizinhos, ou mesmo o tamanho total de dados que nos tivermos, uma vez que este total de dados pode \\n    gerar um erro, uma vez que a maioria for A, aquele dado também sera dado como A.\\n    \\n    Diferente dos outros modelos de aprendizagem, o kNN *NÃO* guarda nenhum tipo de tabela, ele simplesmente faz os calculos de vizinhança para que se determine o melhor valor possível\\n    \\n    Para determinar a distancia de um valor de referencia para o seu vizinho é a formula de distancia euclidiana https://pt.wikipedia.org/wiki/Dist%C3%A2ncia_euclidiana\\n'"
      ]
     },
     "execution_count": 3,
     "metadata": {},
     "output_type": "execute_result"
    }
   ],
   "source": [
    "# Aprendizado baseado em instancias\n",
    "\n",
    "\"\"\"\n",
    "    K- Nearest Neighbour\n",
    "    \n",
    "    Basicamente, nos vamos verificar o novo registro comparando com os seus vizinhos, logo, se o vizinho ser a, muito provavelmente este valor também será a, e isso nos vamos avaliando a partir da quantidade de vizinhos que este valor tiver,\n",
    "    por exemplo, se este valor tiver 3 vizinhos, sendo 2 a e 1 B,  nos assumimos que esta maioria é de A. Porém, nao devemos utilizar um numero muito grande de vizinhos, ou mesmo o tamanho total de dados que nos tivermos, uma vez que este total de dados pode \n",
    "    gerar um erro, uma vez que a maioria for A, aquele dado também sera dado como A.\n",
    "    \n",
    "    Diferente dos outros modelos de aprendizagem, o kNN *NÃO* guarda nenhum tipo de tabela, ele simplesmente faz os calculos de vizinhança para que se determine o melhor valor possível\n",
    "    \n",
    "    Para determinar a distancia de um valor de referencia para o seu vizinho é a formula de distancia euclidiana https://pt.wikipedia.org/wiki/Dist%C3%A2ncia_euclidiana\n",
    "    \n",
    "    Para evitar problemas, devemos fazer uma normalização dos dados\n",
    "\"\"\""
   ]
  },
  {
   "cell_type": "code",
   "execution_count": 4,
   "metadata": {},
   "outputs": [
    {
     "name": "stdout",
     "output_type": "stream",
     "text": [
      "300000 200000\n"
     ]
    },
    {
     "data": {
      "text/plain": [
       "array([[-0.36231603,  0.20457245, -0.47840325, -0.57406837],\n",
       "       [-0.36231603,  0.20457245, -0.47840325,  0.98986654],\n",
       "       [-0.36231603,  0.20457245, -0.47840325,  0.98986654],\n",
       "       ...,\n",
       "       [-0.36231603,  0.20457245, -0.47840325,  2.55380145],\n",
       "       [-0.36231603,  0.20457245,  2.02440393,  2.55380145],\n",
       "       [-0.36231603,  0.20457245, -0.47840325,  0.98986654]])"
      ]
     },
     "execution_count": 4,
     "metadata": {},
     "output_type": "execute_result"
    }
   ],
   "source": [
    "import pandas as pd\n",
    "from sklearn.model_selection import train_test_split\n",
    "from sklearn.preprocessing import LabelEncoder\n",
    "from sklearn.preprocessing import StandardScaler\n",
    "from sklearn.tree import DecisionTreeClassifier\n",
    "\n",
    "\n",
    "dataframe = pd.read_csv(\"./AR_Data.csv\", sep=\";\")\n",
    "dataframe, dataframe_teste = train_test_split(dataframe, test_size=0.4, random_state=1)\n",
    "\n",
    "classe_teste = dataframe_teste.iloc[:, 4].values\n",
    "previsores_teste = dataframe_teste.iloc[:, [0,1,2,3]].values\n",
    "classe = dataframe.iloc[:, 4].values\n",
    "previsores = dataframe.iloc[:, [0,1,2,3]].values\n",
    "print(len(previsores), len(previsores_teste))\n",
    "\n",
    "label_encoder = LabelEncoder()\n",
    "for i in range(0, 4):\n",
    "    previsores[:, i] = label_encoder.fit_transform(previsores[:, i])\n",
    "    previsores_teste[:, i] = label_encoder.fit_transform(previsores_teste[:, i])\n",
    "\n",
    "scaler_data = StandardScaler()\n",
    "previsores = scaler_data.fit_transform(previsores)\n",
    "previsores_teste = scaler_data.fit_transform(previsores_teste)\n",
    "\n",
    "\n",
    "\n",
    "previsores"
   ]
  },
  {
   "cell_type": "code",
   "execution_count": 5,
   "metadata": {},
   "outputs": [
    {
     "data": {
      "text/html": [
       "<style>#sk-container-id-1 {color: black;background-color: white;}#sk-container-id-1 pre{padding: 0;}#sk-container-id-1 div.sk-toggleable {background-color: white;}#sk-container-id-1 label.sk-toggleable__label {cursor: pointer;display: block;width: 100%;margin-bottom: 0;padding: 0.3em;box-sizing: border-box;text-align: center;}#sk-container-id-1 label.sk-toggleable__label-arrow:before {content: \"▸\";float: left;margin-right: 0.25em;color: #696969;}#sk-container-id-1 label.sk-toggleable__label-arrow:hover:before {color: black;}#sk-container-id-1 div.sk-estimator:hover label.sk-toggleable__label-arrow:before {color: black;}#sk-container-id-1 div.sk-toggleable__content {max-height: 0;max-width: 0;overflow: hidden;text-align: left;background-color: #f0f8ff;}#sk-container-id-1 div.sk-toggleable__content pre {margin: 0.2em;color: black;border-radius: 0.25em;background-color: #f0f8ff;}#sk-container-id-1 input.sk-toggleable__control:checked~div.sk-toggleable__content {max-height: 200px;max-width: 100%;overflow: auto;}#sk-container-id-1 input.sk-toggleable__control:checked~label.sk-toggleable__label-arrow:before {content: \"▾\";}#sk-container-id-1 div.sk-estimator input.sk-toggleable__control:checked~label.sk-toggleable__label {background-color: #d4ebff;}#sk-container-id-1 div.sk-label input.sk-toggleable__control:checked~label.sk-toggleable__label {background-color: #d4ebff;}#sk-container-id-1 input.sk-hidden--visually {border: 0;clip: rect(1px 1px 1px 1px);clip: rect(1px, 1px, 1px, 1px);height: 1px;margin: -1px;overflow: hidden;padding: 0;position: absolute;width: 1px;}#sk-container-id-1 div.sk-estimator {font-family: monospace;background-color: #f0f8ff;border: 1px dotted black;border-radius: 0.25em;box-sizing: border-box;margin-bottom: 0.5em;}#sk-container-id-1 div.sk-estimator:hover {background-color: #d4ebff;}#sk-container-id-1 div.sk-parallel-item::after {content: \"\";width: 100%;border-bottom: 1px solid gray;flex-grow: 1;}#sk-container-id-1 div.sk-label:hover label.sk-toggleable__label {background-color: #d4ebff;}#sk-container-id-1 div.sk-serial::before {content: \"\";position: absolute;border-left: 1px solid gray;box-sizing: border-box;top: 0;bottom: 0;left: 50%;z-index: 0;}#sk-container-id-1 div.sk-serial {display: flex;flex-direction: column;align-items: center;background-color: white;padding-right: 0.2em;padding-left: 0.2em;position: relative;}#sk-container-id-1 div.sk-item {position: relative;z-index: 1;}#sk-container-id-1 div.sk-parallel {display: flex;align-items: stretch;justify-content: center;background-color: white;position: relative;}#sk-container-id-1 div.sk-item::before, #sk-container-id-1 div.sk-parallel-item::before {content: \"\";position: absolute;border-left: 1px solid gray;box-sizing: border-box;top: 0;bottom: 0;left: 50%;z-index: -1;}#sk-container-id-1 div.sk-parallel-item {display: flex;flex-direction: column;z-index: 1;position: relative;background-color: white;}#sk-container-id-1 div.sk-parallel-item:first-child::after {align-self: flex-end;width: 50%;}#sk-container-id-1 div.sk-parallel-item:last-child::after {align-self: flex-start;width: 50%;}#sk-container-id-1 div.sk-parallel-item:only-child::after {width: 0;}#sk-container-id-1 div.sk-dashed-wrapped {border: 1px dashed gray;margin: 0 0.4em 0.5em 0.4em;box-sizing: border-box;padding-bottom: 0.4em;background-color: white;}#sk-container-id-1 div.sk-label label {font-family: monospace;font-weight: bold;display: inline-block;line-height: 1.2em;}#sk-container-id-1 div.sk-label-container {text-align: center;}#sk-container-id-1 div.sk-container {/* jupyter's `normalize.less` sets `[hidden] { display: none; }` but bootstrap.min.css set `[hidden] { display: none !important; }` so we also need the `!important` here to be able to override the default hidden behavior on the sphinx rendered scikit-learn.org. See: https://github.com/scikit-learn/scikit-learn/issues/21755 */display: inline-block !important;position: relative;}#sk-container-id-1 div.sk-text-repr-fallback {display: none;}</style><div id=\"sk-container-id-1\" class=\"sk-top-container\"><div class=\"sk-text-repr-fallback\"><pre>KNeighborsClassifier()</pre><b>In a Jupyter environment, please rerun this cell to show the HTML representation or trust the notebook. <br />On GitHub, the HTML representation is unable to render, please try loading this page with nbviewer.org.</b></div><div class=\"sk-container\" hidden><div class=\"sk-item\"><div class=\"sk-estimator sk-toggleable\"><input class=\"sk-toggleable__control sk-hidden--visually\" id=\"sk-estimator-id-1\" type=\"checkbox\" checked><label for=\"sk-estimator-id-1\" class=\"sk-toggleable__label sk-toggleable__label-arrow\">KNeighborsClassifier</label><div class=\"sk-toggleable__content\"><pre>KNeighborsClassifier()</pre></div></div></div></div></div>"
      ],
      "text/plain": [
       "KNeighborsClassifier()"
      ]
     },
     "execution_count": 5,
     "metadata": {},
     "output_type": "execute_result"
    }
   ],
   "source": [
    "from sklearn.neighbors import KNeighborsClassifier\n",
    "\n",
    "knn_aprendiz  = KNeighborsClassifier(n_neighbors=5, metric='minkowski', p= 2)\n",
    "knn_aprendiz.fit(previsores, classe)"
   ]
  },
  {
   "cell_type": "code",
   "execution_count": null,
   "metadata": {},
   "outputs": [],
   "source": [
    "previsao = knn_aprendiz.predict(previsores_teste)\n",
    "\n",
    "from sklearn.metrics import accuracy_score\n",
    "from yellowbrick.classifier import ConfusionMatrix\n",
    "\n",
    "print(accuracy_score(previsao, classe_teste))\n",
    "cm = ConfusionMatrix(knn_aprendiz)\n",
    "cm.fit(previsores, classe)\n",
    "cm.score(previsores_teste, classe_teste)"
   ]
  }
 ],
 "metadata": {
  "kernelspec": {
   "display_name": "Python 3",
   "language": "python",
   "name": "python3"
  },
  "language_info": {
   "codemirror_mode": {
    "name": "ipython",
    "version": 3
   },
   "file_extension": ".py",
   "mimetype": "text/x-python",
   "name": "python",
   "nbconvert_exporter": "python",
   "pygments_lexer": "ipython3",
   "version": "3.11.0"
  },
  "orig_nbformat": 4
 },
 "nbformat": 4,
 "nbformat_minor": 2
}
