{
 "cells": [
  {
   "cell_type": "code",
   "execution_count": null,
   "metadata": {},
   "outputs": [],
   "source": [
    "# Aprendizado baseado em instancias\n",
    "\n",
    "\"\"\"\n",
    "    K- Nearest Neighbour\n",
    "    \n",
    "    Basicamente, nos vamos verificar o novo registro comparando com os seus vizinhos, logo, se o vizinho ser a, muito provavelmente este valor também será a, e isso nos vamos avaliando a partir da quantidade de vizinhos que este valor tiver,\n",
    "    por exemplo, se este valor tiver 3 vizinhos, sendo 2 a e 1 B,  nos assumimos que esta maioria é de A. Porém, nao devemos utilizar um numero muito grande de vizinhos, ou mesmo o tamanho total de dados que nos tivermos, uma vez que este total de dados pode \n",
    "    gerar um erro, uma vez que a maioria for A, aquele dado também sera dado como A.\n",
    "    \n",
    "    Diferente dos outros modelos de aprendizagem, o kNN *NÃO* guarda nenhum tipo de tabela, ele simplesmente faz os calculos de vizinhança para que se determine o melhor valor possível\n",
    "\"\"\""
   ]
  },
  {
   "cell_type": "code",
   "execution_count": null,
   "metadata": {},
   "outputs": [],
   "source": []
  }
 ],
 "metadata": {
  "language_info": {
   "name": "python"
  },
  "orig_nbformat": 4
 },
 "nbformat": 4,
 "nbformat_minor": 2
}
