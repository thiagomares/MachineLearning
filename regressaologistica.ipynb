{
 "cells": [
  {
   "cell_type": "code",
   "execution_count": 1,
   "metadata": {},
   "outputs": [
    {
     "name": "stdout",
     "output_type": "stream",
     "text": [
      "300000 200000\n"
     ]
    },
    {
     "data": {
      "text/plain": [
       "array([[-0.36231603,  0.20457245, -0.47840325, -0.57406837],\n",
       "       [-0.36231603,  0.20457245, -0.47840325,  0.98986654],\n",
       "       [-0.36231603,  0.20457245, -0.47840325,  0.98986654],\n",
       "       ...,\n",
       "       [-0.36231603,  0.20457245, -0.47840325,  2.55380145],\n",
       "       [-0.36231603,  0.20457245,  2.02440393,  2.55380145],\n",
       "       [-0.36231603,  0.20457245, -0.47840325,  0.98986654]])"
      ]
     },
     "execution_count": 1,
     "metadata": {},
     "output_type": "execute_result"
    }
   ],
   "source": [
    "# Implantando a Regressão logistica\n",
    "\n",
    "\n",
    "import pandas as pd\n",
    "from sklearn.model_selection import train_test_split\n",
    "from sklearn.preprocessing import LabelEncoder\n",
    "from sklearn.preprocessing import StandardScaler\n",
    "from sklearn.tree import DecisionTreeClassifier\n",
    "\n",
    "\n",
    "dataframe = pd.read_csv(\"./AR_Data.csv\", sep=\";\")\n",
    "dataframe, dataframe_teste = train_test_split(dataframe, test_size=0.4, random_state=1)\n",
    "\n",
    "classe_teste = dataframe_teste.iloc[:, 4].values\n",
    "previsores_teste = dataframe_teste.iloc[:, [0,1,2,3]].values\n",
    "classe = dataframe.iloc[:, 4].values\n",
    "previsores = dataframe.iloc[:, [0,1,2,3]].values\n",
    "print(len(previsores), len(previsores_teste))\n",
    "\n",
    "label_encoder = LabelEncoder()\n",
    "for i in range(0, 4):\n",
    "    previsores[:, i] = label_encoder.fit_transform(previsores[:, i])\n",
    "    previsores_teste[:, i] = label_encoder.fit_transform(previsores_teste[:, i])\n",
    "\n",
    "scaler_data = StandardScaler()\n",
    "previsores = scaler_data.fit_transform(previsores)\n",
    "previsores_teste = scaler_data.fit_transform(previsores_teste)\n",
    "\n",
    "\n",
    "\n",
    "previsores"
   ]
  },
  {
   "cell_type": "code",
   "execution_count": 5,
   "metadata": {},
   "outputs": [
    {
     "data": {
      "text/plain": [
       "array([0.42151308])"
      ]
     },
     "execution_count": 5,
     "metadata": {},
     "output_type": "execute_result"
    }
   ],
   "source": [
    "from sklearn.linear_model import LogisticRegression\n",
    "\n",
    "regressao_log_aprendiz = LogisticRegression(random_state= 1, max_iter= 50)\n",
    "regressao_log_aprendiz.fit(previsores, classe)\n",
    "regressao_log_aprendiz.intercept_"
   ]
  },
  {
   "cell_type": "code",
   "execution_count": 6,
   "metadata": {},
   "outputs": [
    {
     "data": {
      "text/plain": [
       "array([[-2.94381418, -0.21878439, -0.32654032, -0.32669796]])"
      ]
     },
     "execution_count": 6,
     "metadata": {},
     "output_type": "execute_result"
    }
   ],
   "source": [
    "regressao_log_aprendiz.coef_"
   ]
  },
  {
   "cell_type": "code",
   "execution_count": 7,
   "metadata": {},
   "outputs": [
    {
     "name": "stdout",
     "output_type": "stream",
     "text": [
      "              precision    recall  f1-score   support\n",
      "\n",
      "    One-Time       0.42      0.90      0.58     26966\n",
      "   Recurring       0.98      0.81      0.89    173034\n",
      "\n",
      "    accuracy                           0.82    200000\n",
      "   macro avg       0.70      0.85      0.73    200000\n",
      "weighted avg       0.91      0.82      0.85    200000\n",
      "\n",
      "0.821925\n"
     ]
    },
    {
     "data": {
      "text/plain": [
       "0.821925"
      ]
     },
     "execution_count": 7,
     "metadata": {},
     "output_type": "execute_result"
    },
    {
     "data": {
      "image/png": "[encoded data removed]",
      "text/plain": [
       "<Figure size 800x550 with 1 Axes>"
      ]
     },
     "metadata": {},
     "output_type": "display_data"
    }
   ],
   "source": [
    "previsao = regressao_log_aprendiz.predict(previsores_teste)\n",
    "\n",
    "from sklearn.metrics import accuracy_score, classification_report\n",
    "from yellowbrick.classifier import ConfusionMatrix\n",
    "\n",
    "print(classification_report(previsao, classe_teste))\n",
    "print(accuracy_score(previsao, classe_teste))\n",
    "cm = ConfusionMatrix(regressao_log_aprendiz)\n",
    "cm.fit(previsores, classe)\n",
    "cm.score(previsores_teste, classe_teste)"
   ]
  }
 ],
 "metadata": {
  "kernelspec": {
   "display_name": "Python 3",
   "language": "python",
   "name": "python3"
  },
  "language_info": {
   "codemirror_mode": {
    "name": "ipython",
    "version": 3
   },
   "file_extension": ".py",
   "mimetype": "text/x-python",
   "name": "python",
   "nbconvert_exporter": "python",
   "pygments_lexer": "ipython3",
   "version": "3.11.0"
  },
  "orig_nbformat": 4
 },
 "nbformat": 4,
 "nbformat_minor": 2
}
