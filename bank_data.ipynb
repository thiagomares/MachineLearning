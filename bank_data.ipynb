{
 "cells": [
  {
   "cell_type": "code",
   "execution_count": 2,
   "metadata": {},
   "outputs": [
    {
     "name": "stdout",
     "output_type": "stream",
     "text": [
      "Erro ao executar a consulta\n"
     ]
    },
    {
     "data": {
      "text/html": [
       "<div>\n",
       "<style scoped>\n",
       "    .dataframe tbody tr th:only-of-type {\n",
       "        vertical-align: middle;\n",
       "    }\n",
       "\n",
       "    .dataframe tbody tr th {\n",
       "        vertical-align: top;\n",
       "    }\n",
       "\n",
       "    .dataframe thead th {\n",
       "        text-align: right;\n",
       "    }\n",
       "</style>\n",
       "<table border=\"1\" class=\"dataframe\">\n",
       "  <thead>\n",
       "    <tr style=\"text-align: right;\">\n",
       "      <th></th>\n",
       "    </tr>\n",
       "  </thead>\n",
       "  <tbody>\n",
       "  </tbody>\n",
       "</table>\n",
       "</div>"
      ],
      "text/plain": [
       "Empty DataFrame\n",
       "Columns: []\n",
       "Index: []"
      ]
     },
     "execution_count": 2,
     "metadata": {},
     "output_type": "execute_result"
    }
   ],
   "source": [
    "from sqlalchemy.engine import URL\n",
    "from sqlalchemy import create_engine, select, TryCast, MetaData\n",
    "from abc import ABC, abstractmethod\n",
    "import json\n",
    "import pyodbc\n",
    "import pandas as pd\n",
    "import requests\n",
    "\n",
    "class Geradora:\n",
    "    def __init__(self):\n",
    "        self._data = None\n",
    "        self._engine = None\n",
    "    \n",
    "    def ReadJson(self):\n",
    "        with open(\"./data.json\", 'r+') as file:\n",
    "            self._data = json.load(file)\n",
    "        return self._data\n",
    "\n",
    "    def CreateEngine(self):\n",
    "        data = self.ReadJson()\n",
    "        conn_url = URL.create(\n",
    "            \"mssql+pyodbc\",\n",
    "            username=data['username'],\n",
    "            password=data[\"password\"],\n",
    "            host=data[\"host\"],\n",
    "            port=1433,\n",
    "            database=data[\"database\"],\n",
    "            query={\n",
    "                \"driver\": \"ODBC Driver 18 for SQL Server\",\n",
    "                \"TrustServerCertificate\": \"yes\"\n",
    "            }\n",
    "        )\n",
    "        self._engine = create_engine(conn_url)\n",
    "        return self._engine\n",
    "    \n",
    "    def create_query(self, query):\n",
    "        try:\n",
    "            dataframe = pd.read_sql_query(query, self.CreateEngine())\n",
    "            return dataframe\n",
    "        except:\n",
    "            print('Erro ao executar a consulta')\n",
    "        finally:\n",
    "            pass\n",
    "\n",
    "geradora = Geradora()\n",
    "dataframe = pd.DataFrame(geradora.create_query(\"select * from ONE_Bank_Data\"))\n",
    "dataframe"
   ]
  },
  {
   "cell_type": "code",
   "execution_count": null,
   "metadata": {},
   "outputs": [],
   "source": [
    "dataset = dataframe.iloc[:, 3].values\n",
    "\n",
    "banks = {}\n",
    "try:\n",
    "    for i in dataset:\n",
    "        url = f'https://www.routingnumbers.info/api/name.json?rn={i}'\n",
    "        response = requests.get(url)\n",
    "        data = json.loads(response.content)\n",
    "        if data['message'] == 'OK':\n",
    "            banks[i] = data['name']\n",
    "        else:\n",
    "            pass\n",
    "except:\n",
    "    pass\n",
    "\n",
    "routing = []\n",
    "bank_name = []\n",
    "for i in banks:\n",
    "    routing.append(i)\n",
    "for i in banks.values():\n",
    "    bank_name.append(i)\n",
    "new_dataframe = pd.DataFrame(list(zip(bank_name, routing)), columns=[\n",
    "                            'Bank', 'Routing'])\n",
    "\n",
    "df1 = dataframe.merge(new_dataframe, on='Routing')"
   ]
  }
 ],
 "metadata": {
  "kernelspec": {
   "display_name": ".venv",
   "language": "python",
   "name": "python3"
  },
  "language_info": {
   "codemirror_mode": {
    "name": "ipython",
    "version": 3
   },
   "file_extension": ".py",
   "mimetype": "text/x-python",
   "name": "python",
   "nbconvert_exporter": "python",
   "pygments_lexer": "ipython3",
   "version": "3.10.6"
  },
  "orig_nbformat": 4
 },
 "nbformat": 4,
 "nbformat_minor": 2
}
