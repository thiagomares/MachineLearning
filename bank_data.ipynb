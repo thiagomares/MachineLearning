{
 "cells": [
  {
   "cell_type": "code",
   "execution_count": 11,
   "metadata": {},
   "outputs": [
    {
     "name": "stdout",
     "output_type": "stream",
     "text": [
      "{'username': 'KPI-DB-User_reporter', 'password': '3NQ7ySjru6IixLGf/zU2/', 'host': 'kpi-db-server.database.windows.net', 'port': 1433, 'database': 'kpi-db', 'query': {'driver': 'ODBC Driver 18 for SQL Server', 'TrustServerCertificate': 'yes', 'authentication': 'ActiveDirectoryIntegrated'}} <class 'dict'>\n",
      "KPI-DB-User_reporter\n"
     ]
    }
   ],
   "source": [
    "import json\n",
    "import pyodbc\n",
    "from sqlalchemy import URL, create_engine\n",
    "import pandas as pd\n",
    "import requests\n",
    "\n",
    "\n",
    "# Creating the credentials\n",
    "with open(\"./data.json\", 'r+') as file:\n",
    "    data = json.load(file)\n",
    "print(data, type(data))\n",
    "print(data['username'])\n",
    "\n",
    "\n",
    "conn = URL.create(\n",
    "    \"mssql+pyodbc\",\n",
    "    query=dict(driver=\"ODBC Driver 17 for SQL Server\"),\n",
    "    host=data['host'],\n",
    "    database=data['database'],\n",
    "    username=data['username'],\n",
    "    password=data[\"password\"])\n",
    "\n",
    "engine = create_engine(conn)\n"
   ]
  },
  {
   "cell_type": "code",
   "execution_count": 10,
   "metadata": {},
   "outputs": [
    {
     "data": {
      "text/plain": [
       "array(['122105980', '122105980', '122238200', ..., '122238200',\n",
       "       '111025453', '111025453'], dtype=object)"
      ]
     },
     "execution_count": 10,
     "metadata": {},
     "output_type": "execute_result"
    }
   ],
   "source": [
    "dataframe = pd.read_sql(\"select * from ONE_Bank_Data\", engine)\n",
    "dictionary = dataframe.iloc[:, 3].values\n",
    "dictionary"
   ]
  },
  {
   "cell_type": "code",
   "execution_count": 13,
   "metadata": {},
   "outputs": [],
   "source": [
    "banks = {}\n",
    "try:\n",
    "    for i in dictionary:\n",
    "        url = f'https://www.routingnumbers.info/api/name.json?rn={i}'\n",
    "        response = requests.get(url)\n",
    "        data = json.loads(response.content)\n",
    "        if data['message'] == 'OK':\n",
    "            banks[i] = data['name']\n",
    "        else:\n",
    "            pass\n",
    "except:\n",
    "    pass\n",
    "\n",
    "routing = []\n",
    "bank_name = []\n",
    "for i in banks:\n",
    "    routing.append(i)\n",
    "for i in banks.values:\n",
    "    bank_name.append(i)\n",
    "new_dataframe = pd.DataFrame(list(zip(bank_name, routing)), columns=[\n",
    "                             'Bank', 'Routing'])\n",
    "\n",
    "df1 = dataframe.merge(new_dataframe, on='Routing')"
   ]
  }
 ],
 "metadata": {
  "kernelspec": {
   "display_name": ".venv",
   "language": "python",
   "name": "python3"
  },
  "language_info": {
   "codemirror_mode": {
    "name": "ipython",
    "version": 3
   },
   "file_extension": ".py",
   "mimetype": "text/x-python",
   "name": "python",
   "nbconvert_exporter": "python",
   "pygments_lexer": "ipython3",
   "version": "3.10.6"
  },
  "orig_nbformat": 4
 },
 "nbformat": 4,
 "nbformat_minor": 2
}
