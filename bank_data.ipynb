{
 "cells": [
  {
   "cell_type": "code",
   "execution_count": 7,
   "metadata": {},
   "outputs": [
    {
     "name": "stdout",
     "output_type": "stream",
     "text": [
      "Erro ao executar a consulta\n"
     ]
    },
    {
     "ename": "UnboundLocalError",
     "evalue": "local variable 'dataframe' referenced before assignment",
     "output_type": "error",
     "traceback": [
      "\u001b[1;31m---------------------------------------------------------------------------\u001b[0m",
      "\u001b[1;31mUnboundLocalError\u001b[0m                         Traceback (most recent call last)",
      "\u001b[1;32mc:\\Users\\thiag\\Desktop\\MachineLearning\\bank_data.ipynb Célula 1\u001b[0m in \u001b[0;36m<cell line: 42>\u001b[1;34m()\u001b[0m\n\u001b[0;32m     <a href='vscode-notebook-cell:/c%3A/Users/thiag/Desktop/MachineLearning/bank_data.ipynb#W0sZmlsZQ%3D%3D?line=39'>40</a>\u001b[0m         \u001b[39mreturn\u001b[39;00m dataframe\n\u001b[0;32m     <a href='vscode-notebook-cell:/c%3A/Users/thiag/Desktop/MachineLearning/bank_data.ipynb#W0sZmlsZQ%3D%3D?line=40'>41</a>\u001b[0m geradora \u001b[39m=\u001b[39m Geradora()\n\u001b[1;32m---> <a href='vscode-notebook-cell:/c%3A/Users/thiag/Desktop/MachineLearning/bank_data.ipynb#W0sZmlsZQ%3D%3D?line=41'>42</a>\u001b[0m dataframe \u001b[39m=\u001b[39m pd\u001b[39m.\u001b[39mDataFrame(geradora\u001b[39m.\u001b[39;49mcreate_query(\u001b[39m\"\u001b[39;49m\u001b[39mselect * from ONE_Bank_Data\u001b[39;49m\u001b[39m\"\u001b[39;49m))\n\u001b[0;32m     <a href='vscode-notebook-cell:/c%3A/Users/thiag/Desktop/MachineLearning/bank_data.ipynb#W0sZmlsZQ%3D%3D?line=42'>43</a>\u001b[0m dataframe\n",
      "\u001b[1;32mc:\\Users\\thiag\\Desktop\\MachineLearning\\bank_data.ipynb Célula 1\u001b[0m in \u001b[0;36mGeradora.create_query\u001b[1;34m(self, query)\u001b[0m\n\u001b[0;32m     <a href='vscode-notebook-cell:/c%3A/Users/thiag/Desktop/MachineLearning/bank_data.ipynb#W0sZmlsZQ%3D%3D?line=37'>38</a>\u001b[0m \u001b[39mexcept\u001b[39;00m:\n\u001b[0;32m     <a href='vscode-notebook-cell:/c%3A/Users/thiag/Desktop/MachineLearning/bank_data.ipynb#W0sZmlsZQ%3D%3D?line=38'>39</a>\u001b[0m     \u001b[39mprint\u001b[39m(\u001b[39m'\u001b[39m\u001b[39mErro ao executar a consulta\u001b[39m\u001b[39m'\u001b[39m)\n\u001b[1;32m---> <a href='vscode-notebook-cell:/c%3A/Users/thiag/Desktop/MachineLearning/bank_data.ipynb#W0sZmlsZQ%3D%3D?line=39'>40</a>\u001b[0m \u001b[39mreturn\u001b[39;00m dataframe\n",
      "\u001b[1;31mUnboundLocalError\u001b[0m: local variable 'dataframe' referenced before assignment"
     ]
    }
   ],
   "source": [
    "from sqlalchemy.engine import URL\n",
    "from sqlalchemy import create_engine, select, TryCast, MetaData\n",
    "from abc import ABC, abstractmethod\n",
    "import json\n",
    "import pyodbc\n",
    "import pandas as pd\n",
    "import requests\n",
    "\n",
    "class Geradora:\n",
    "    def __init__(self):\n",
    "        self._data = None\n",
    "    \n",
    "    def ReadJson(self):\n",
    "        with open(\"./data.json\", 'r+') as file:\n",
    "            self._data = json.load(file)\n",
    "        return self._data\n",
    "\n",
    "    def CreateEngine(self):\n",
    "        data = self.ReadJson()\n",
    "        conn_url = URL.create(\n",
    "            \"mssql+pyodbc\",\n",
    "            username=data['username'],\n",
    "            password=data[\"password\"],\n",
    "            host=data[\"host\"],\n",
    "            port=1433,\n",
    "            database=data[\"database\"],\n",
    "            query={\n",
    "                \"driver\": \"ODBC Driver 18 for SQL Server\",\n",
    "                \"TrustServerCertificate\": \"yes\"\n",
    "            }\n",
    "        )\n",
    "        engine = create_engine(conn_url)\n",
    "        return engine\n",
    "    \n",
    "    def create_query(self, query):\n",
    "        try:\n",
    "            dataframe = pd.read_sql_query(query, self.CreateEngine())\n",
    "            return dataframe\n",
    "        except:\n",
    "            print('Erro ao executar a consulta')\n",
    "        \n",
    "\n",
    "geradora = Geradora()\n",
    "dataframe = pd.DataFrame(geradora.create_query(\"select * from ONE_Bank_Data\"))\n",
    "dataframe"
   ]
  },
  {
   "cell_type": "code",
   "execution_count": null,
   "metadata": {},
   "outputs": [],
   "source": [
    "dataset = dataframe.iloc[:, 3].values\n",
    "\n",
    "banks = {}\n",
    "try:\n",
    "    for i in dataset:\n",
    "        url = f'https://www.routingnumbers.info/api/name.json?rn={i}'\n",
    "        response = requests.get(url)\n",
    "        data = json.loads(response.content)\n",
    "        if data['message'] == 'OK':\n",
    "            banks[i] = data['name']\n",
    "        else:\n",
    "            pass\n",
    "except:\n",
    "    pass\n",
    "\n",
    "routing = []\n",
    "bank_name = []\n",
    "for i in banks:\n",
    "    routing.append(i)\n",
    "for i in banks.values():\n",
    "    bank_name.append(i)\n",
    "new_dataframe = pd.DataFrame(list(zip(bank_name, routing)), columns=[\n",
    "                            'Bank', 'Routing'])\n",
    "\n",
    "df1 = dataframe.merge(new_dataframe, on='Routing')"
   ]
  }
 ],
 "metadata": {
  "kernelspec": {
   "display_name": ".venv",
   "language": "python",
   "name": "python3"
  },
  "language_info": {
   "codemirror_mode": {
    "name": "ipython",
    "version": 3
   },
   "file_extension": ".py",
   "mimetype": "text/x-python",
   "name": "python",
   "nbconvert_exporter": "python",
   "pygments_lexer": "ipython3",
   "version": "3.10.6"
  },
  "orig_nbformat": 4
 },
 "nbformat": 4,
 "nbformat_minor": 2
}
