{
 "cells": [
  {
   "cell_type": "code",
   "execution_count": 9,
   "metadata": {},
   "outputs": [
    {
     "name": "stdout",
     "output_type": "stream",
     "text": [
      "<office365.sharepoint.client_context.ClientContext object at 0x00000272BA11D090>\n",
      "<office365.sharepoint.client_context.ClientContext object at 0x00000272BA11CD30>\n",
      "('Corporate Data Analytics/Test Folder', <office365.sharepoint.folders.folder.Folder object at 0x00000272BA0EE9B0>)\n"
     ]
    }
   ],
   "source": [
    "from office365.runtime.auth.user_credential import UserCredential\n",
    "from office365.sharepoint.client_context import ClientContext\n",
    "import json\n",
    "\n",
    "\n",
    "with open('./credentials.json', 'r+') as credentials:\n",
    "    data = json.load(credentials)\n",
    "\n",
    "\n",
    "def get_sherpoint_context_using_user():\n",
    "    sharepoint_url = data[\"sharepointurl\"]\n",
    "    user_credentials = UserCredential(data['username'], data['password'])\n",
    "\n",
    "    context = ClientContext(sharepoint_url).with_credentials(user_credentials)\n",
    "    print(context)\n",
    "    return context\n",
    "\n",
    "def create_sharepoint_directory( dir_name: str):\n",
    "    if dir_name:\n",
    "        context = get_sherpoint_context_using_user()\n",
    "        result = context.web.folders.add(f'Corporate Data Analytics/{dir_name}')\n",
    "        \n",
    "        if result:\n",
    "            relative_url = f'Corporate Data Analytics/{dir_name}'\n",
    "            return relative_url, result\n",
    "\n",
    "def upload_data(dirname: str, filename: str):\n",
    "    sp_relative_url = create_sharepoint_directory(dirname)\n",
    "    context = get_sherpoint_context_using_user()\n",
    "    \n",
    "    targetfolder = context.web.get_folder_by_server_relative_url(sp_relative_url)\n",
    "\n",
    "    with open(filename, 'rb') as contentfile:\n",
    "        contentfile = contentfile.read()\n",
    "        targetfolder.upload_file(filename, contentfile).execute_query()\n",
    "        print('Send files to the directory')\n",
    "\n",
    "\n",
    "create_sharepoint_directory(\"Test Folder\")\n",
    "print(create_sharepoint_directory('Test Folder'))"
   ]
  }
 ],
 "metadata": {
  "kernelspec": {
   "display_name": ".venv",
   "language": "python",
   "name": "python3"
  },
  "language_info": {
   "codemirror_mode": {
    "name": "ipython",
    "version": 3
   },
   "file_extension": ".py",
   "mimetype": "text/x-python",
   "name": "python",
   "nbconvert_exporter": "python",
   "pygments_lexer": "ipython3",
   "version": "3.10.6"
  },
  "orig_nbformat": 4
 },
 "nbformat": 4,
 "nbformat_minor": 2
}
