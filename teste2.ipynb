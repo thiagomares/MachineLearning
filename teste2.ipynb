{
 "cells": [
  {
   "cell_type": "code",
   "execution_count": 4,
   "metadata": {},
   "outputs": [
    {
     "name": "stdout",
     "output_type": "stream",
     "text": [
      "{'username': 'thiago.mares@goenumerate.com', 'password': 'tuBZYPWvcaC8U7', 'sharepointurl': 'https://goenumerate.sharepoint.com/', 'sharepointsite': 'https://goenumerate.sharepoint.com/sites/IT_Internal/', 'doc_library': 'Shared Documents/Corporate Data Analytics'}\n"
     ]
    },
    {
     "ename": "Exception",
     "evalue": "('Error authenticating against Office 365. Error from Office 365:', \"AADSTS50076: Due to a configuration change made by your administrator, or because you moved to a new location, you must use multi-factor authentication to access ''.\")",
     "output_type": "error",
     "traceback": [
      "\u001b[1;31m---------------------------------------------------------------------------\u001b[0m",
      "\u001b[1;31mException\u001b[0m                                 Traceback (most recent call last)",
      "Cell \u001b[1;32mIn[4], line 47\u001b[0m\n\u001b[0;32m     43\u001b[0m         \u001b[39mself\u001b[39m\u001b[39m.\u001b[39m_folder\u001b[39m.\u001b[39mdelete_file(file_name)\n\u001b[0;32m     46\u001b[0m \u001b[39mif\u001b[39;00m \u001b[39m__name__\u001b[39m \u001b[39m==\u001b[39m \u001b[39m'\u001b[39m\u001b[39m__main__\u001b[39m\u001b[39m'\u001b[39m:\n\u001b[1;32m---> 47\u001b[0m     sp \u001b[39m=\u001b[39m SharePoint()\u001b[39m.\u001b[39;49mauth()\n",
      "Cell \u001b[1;32mIn[4], line 18\u001b[0m, in \u001b[0;36mSharePoint.auth\u001b[1;34m(self)\u001b[0m\n\u001b[0;32m     17\u001b[0m \u001b[39mdef\u001b[39;00m \u001b[39mauth\u001b[39m(\u001b[39mself\u001b[39m):\n\u001b[1;32m---> 18\u001b[0m     \u001b[39mself\u001b[39m\u001b[39m.\u001b[39mauthcookie \u001b[39m=\u001b[39m Office365(SHAREPOINT_URL, username\u001b[39m=\u001b[39;49mUSERNAME, password\u001b[39m=\u001b[39;49mPASSWORD)\u001b[39m.\u001b[39;49mGetCookies()\n\u001b[0;32m     19\u001b[0m     \u001b[39mself\u001b[39m\u001b[39m.\u001b[39msite \u001b[39m=\u001b[39m Site(SHAREPOINT_SITE, version\u001b[39m=\u001b[39mVersion\u001b[39m.\u001b[39mv365, authcookie\u001b[39m=\u001b[39m\u001b[39mself\u001b[39m\u001b[39m.\u001b[39mauthcookie)\n\u001b[0;32m     21\u001b[0m     \u001b[39mreturn\u001b[39;00m \u001b[39mself\u001b[39m\u001b[39m.\u001b[39msite\n",
      "File \u001b[1;32mc:\\Users\\thiag\\Desktop\\MachineLearning\\.venv\\lib\\site-packages\\shareplum\\office365.py:88\u001b[0m, in \u001b[0;36mOffice365.get_cookies\u001b[1;34m(self)\u001b[0m\n\u001b[0;32m     82\u001b[0m \u001b[39mdef\u001b[39;00m \u001b[39mget_cookies\u001b[39m(\u001b[39mself\u001b[39m):\n\u001b[0;32m     83\u001b[0m     \u001b[39m# type: () -> requests.cookies.RequestsCookieJar\u001b[39;00m\n\u001b[0;32m     84\u001b[0m \u001b[39m    \u001b[39m\u001b[39m\"\"\"\u001b[39;00m\n\u001b[0;32m     85\u001b[0m \u001b[39m    Grabs the cookies form your Office Sharepoint site\u001b[39;00m\n\u001b[0;32m     86\u001b[0m \u001b[39m    and uses it as Authentication for the rest of the calls\u001b[39;00m\n\u001b[0;32m     87\u001b[0m \u001b[39m    \"\"\"\u001b[39;00m\n\u001b[1;32m---> 88\u001b[0m     sectoken \u001b[39m=\u001b[39m \u001b[39mself\u001b[39;49m\u001b[39m.\u001b[39;49mget_security_token(\u001b[39mself\u001b[39;49m\u001b[39m.\u001b[39;49musername, \u001b[39mself\u001b[39;49m\u001b[39m.\u001b[39;49mpassword)\n\u001b[0;32m     89\u001b[0m     url \u001b[39m=\u001b[39m \u001b[39mself\u001b[39m\u001b[39m.\u001b[39mshare_point_site \u001b[39m+\u001b[39m \u001b[39m\"\u001b[39m\u001b[39m/_forms/default.aspx?wa=wsignin1.0\u001b[39m\u001b[39m\"\u001b[39m\n\u001b[0;32m     90\u001b[0m     response \u001b[39m=\u001b[39m post(requests, url, data\u001b[39m=\u001b[39msectoken)\n",
      "File \u001b[1;32mc:\\Users\\thiag\\Desktop\\MachineLearning\\.venv\\lib\\site-packages\\shareplum\\office365.py:80\u001b[0m, in \u001b[0;36mOffice365.get_security_token\u001b[1;34m(self, username, password)\u001b[0m\n\u001b[0;32m     77\u001b[0m \u001b[39mif\u001b[39;00m \u001b[39mlen\u001b[39m(message) \u001b[39m<\u001b[39m \u001b[39m1\u001b[39m:\n\u001b[0;32m     78\u001b[0m     \u001b[39mraise\u001b[39;00m \u001b[39mException\u001b[39;00m(\u001b[39m'\u001b[39m\u001b[39mError authenticating against Office 365. Was not able to find an error code. Here is \u001b[39m\u001b[39m'\u001b[39m\n\u001b[0;32m     79\u001b[0m                     \u001b[39m'\u001b[39m\u001b[39mthe SOAP response from Office 365\u001b[39m\u001b[39m'\u001b[39m, response\u001b[39m.\u001b[39mcontent)\n\u001b[1;32m---> 80\u001b[0m \u001b[39mraise\u001b[39;00m \u001b[39mException\u001b[39;00m(\u001b[39m'\u001b[39m\u001b[39mError authenticating against Office 365. Error from Office 365:\u001b[39m\u001b[39m'\u001b[39m, message[\u001b[39m0\u001b[39m]\u001b[39m.\u001b[39mtext)\n",
      "\u001b[1;31mException\u001b[0m: ('Error authenticating against Office 365. Error from Office 365:', \"AADSTS50076: Due to a configuration change made by your administrator, or because you moved to a new location, you must use multi-factor authentication to access ''.\")"
     ]
    }
   ],
   "source": [
    "from shareplum import Site, Office365\n",
    "from shareplum.site import Version\n",
    "import json\n",
    "\n",
    "with open('./credentials.json', 'rb') as credentials:\n",
    "    user_credentials = json.load(credentials)\n",
    "\n",
    "print(user_credentials)\n",
    "\n",
    "USERNAME = user_credentials['username']\n",
    "PASSWORD = user_credentials['password']\n",
    "SHAREPOINT_URL = user_credentials['sharepointurl']\n",
    "SHAREPOINT_SITE = user_credentials['sharepointsite']\n",
    "SHAREPOINT_DOC = user_credentials['doc_library']\n",
    "\n",
    "class SharePoint:\n",
    "    def auth(self):\n",
    "        self.authcookie = Office365(SHAREPOINT_URL, username=USERNAME, password=PASSWORD).GetCookies()\n",
    "        self.site = Site(SHAREPOINT_SITE, version=Version.v365, authcookie=self.authcookie)\n",
    "\n",
    "        return self.site\n",
    "\n",
    "    def connect_folder(self, folder_name):\n",
    "        self.auth_site = self.auth()\n",
    "\n",
    "        self.sharepoint_dir = '/'.join([SHAREPOINT_DOC, folder_name])\n",
    "        self.folder = self.auth_site.Folder(self.sharepoint_dir)\n",
    "\n",
    "        return self.folder\n",
    "\n",
    "    def upload_file(self, file, file_name, folder_name):\n",
    "        self._folder = self.connect_folder(folder_name)\n",
    "\n",
    "        with open(file, mode='rb') as file_obj:\n",
    "            file_content = file_obj.read()\n",
    "\n",
    "        self._folder.upload_file(file_content, file_name)\n",
    "\n",
    "    def delete_file(self, file_name, folder_name):\n",
    "\n",
    "        self._folder = self.connect_folder(folder_name)\n",
    "\n",
    "        self._folder.delete_file(file_name)\n",
    "\n",
    "\n",
    "if __name__ == '__main__':\n",
    "    sp = SharePoint().auth()"
   ]
  }
 ],
 "metadata": {
  "kernelspec": {
   "display_name": ".venv",
   "language": "python",
   "name": "python3"
  },
  "language_info": {
   "codemirror_mode": {
    "name": "ipython",
    "version": 3
   },
   "file_extension": ".py",
   "mimetype": "text/x-python",
   "name": "python",
   "nbconvert_exporter": "python",
   "pygments_lexer": "ipython3",
   "version": "3.10.6"
  },
  "orig_nbformat": 4
 },
 "nbformat": 4,
 "nbformat_minor": 2
}
