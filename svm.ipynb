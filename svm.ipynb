{
 "cells": [
  {
   "cell_type": "markdown",
   "metadata": {},
   "source": [
    "# Maquinas de vetores de suporte\n",
    "\n",
    "Separamos os valores em duas classes, e dela faremos uma linha separando essas classes, e verificamos a distancia, e iremos classificar a partir da margem maxima entre essas duas classes"
   ]
  }
 ],
 "metadata": {
  "language_info": {
   "name": "python"
  },
  "orig_nbformat": 4
 },
 "nbformat": 4,
 "nbformat_minor": 2
}
